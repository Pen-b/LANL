{
 "cells": [
  {
   "cell_type": "markdown",
   "metadata": {},
   "source": [
    "# [LANL competition](https://www.kaggle.com/c/LANL-Earthquake-Prediction)\n",
    "- [introduction](https://www.kaggle.com/c/LANL-Earthquake-Prediction/discussion/77525)\n",
    "- [Benchmark analysis](https://www.kaggle.com/inversion/basic-feature-benchmark/notebook)\n",
    "- [good EDA and discussion + comments](https://www.kaggle.com/allunia/shaking-earth/comments)"
   ]
  },
  {
   "cell_type": "code",
   "execution_count": 1,
   "metadata": {
    "_cell_guid": "b1076dfc-b9ad-4769-8c92-a6c4dae69d19",
    "_uuid": "8f2839f25d086af736a60e9eeb907d3b93b6e0e5"
   },
   "outputs": [],
   "source": [
    "import numpy as np\n",
    "import pandas as pd\n",
    "import os\n",
    "import matplotlib.pyplot as plt\n",
    "from tqdm import tqdm"
   ]
  },
  {
   "cell_type": "code",
   "execution_count": 2,
   "metadata": {},
   "outputs": [
    {
     "data": {
      "text/plain": [
       "'/home/ben/github/LANL/notebooks'"
      ]
     },
     "execution_count": 2,
     "metadata": {},
     "output_type": "execute_result"
    }
   ],
   "source": [
    "os.path.abspath('.')"
   ]
  },
  {
   "cell_type": "code",
   "execution_count": 3,
   "metadata": {},
   "outputs": [],
   "source": [
    "version='v5'"
   ]
  },
  {
   "cell_type": "code",
   "execution_count": 4,
   "metadata": {},
   "outputs": [
    {
     "data": {
      "text/plain": [
       "['all.zip',\n",
       " 'sample_submission.csv',\n",
       " 'test',\n",
       " 'test.zip',\n",
       " 'train.csv',\n",
       " 'v1_submission.csv',\n",
       " 'v1_train.hdf',\n",
       " 'v2_submission.csv',\n",
       " 'v2_train.hdf',\n",
       " 'v3.1_submission.csv',\n",
       " 'v3_submission.csv',\n",
       " 'v4.1_nuSVR_submission.csv',\n",
       " 'v4.1_submission.csv',\n",
       " 'v4.2_XGB_submission.csv',\n",
       " 'v5.0_Ensemble_submission.csv']"
      ]
     },
     "execution_count": 4,
     "metadata": {},
     "output_type": "execute_result"
    }
   ],
   "source": [
    "root = 'D:\\\\LANL\\\\all' # windows\n",
    "root = '/media/ben/data/kaggle/LANL/' # linux\n",
    "os.listdir(root)"
   ]
  },
  {
   "cell_type": "markdown",
   "metadata": {},
   "source": [
    "# Load Training Data"
   ]
  },
  {
   "cell_type": "code",
   "execution_count": 5,
   "metadata": {},
   "outputs": [],
   "source": [
    "# # load 9GB csv\n",
    "# train = pd.read_csv(os.path.join(root,'train.csv'), dtype={'acoustic_data': np.int16, 'time_to_failure': np.float64})"
   ]
  },
  {
   "cell_type": "markdown",
   "metadata": {},
   "source": [
    "### Failure sequences\n",
    "There are 16 failures in the data set, but the time-to-fail only ever reaches very small decimals.<br>\n",
    "The last rows do *NOT* end in a failure. \n",
    "\n",
    "- when loading the data..\n",
    "- Lets, use the time difference to identify where the T2F jumps back up and mark these as failures."
   ]
  },
  {
   "cell_type": "code",
   "execution_count": 6,
   "metadata": {},
   "outputs": [
    {
     "name": "stdout",
     "output_type": "stream",
     "text": [
      "File Loaded\n"
     ]
    }
   ],
   "source": [
    "try:\n",
    "    train = pd.read_hdf(os.path.join(root,'v2_train.hdf'.format(version)),'mydata')\n",
    "    print('File Loaded')\n",
    "except:\n",
    "    print('File not found, running chunk load')\n",
    "    # load in as chunks\n",
    "    chunksize = 10 ** 6\n",
    "    chunks = list()\n",
    "    sequenceNumber = 0 # first failure sequence\n",
    "    \n",
    "    for chunk in tqdm(pd.read_csv(os.path.join(root,'train.csv'),\n",
    "                             dtype={'acoustic_data': np.int16, 'time_to_failure': np.float64},\n",
    "                             chunksize=chunksize)):\n",
    "\n",
    "        chunk['seq'] = chunk['time_to_failure'].diff() # get time difference between each step\n",
    "        chunk['seq'] = (chunk['seq']>0).astype(float).copy() # float binary column where time_difference between steps is positive (i.e. reset after failure)\n",
    "        chunk['seq'].values[0] = sequenceNumber # set first as sequenceNumber\n",
    "        chunk['seq'] = chunk['seq'].cumsum().copy() # sum up sequence values\n",
    "        chunks.append(chunk) # append results to list\n",
    "        sequenceNumber = chunk['seq'].values[-1] # get latest sequnce number\n",
    "        \n",
    "    # concat chunks & save\n",
    "    train = pd.concat(chunks)\n",
    "    print('Out:{}'.format(len(train)))\n",
    "    train.to_hdf(os.path.join(root,'{}_train.hdf'.format(version)),'mydata',mode='w')"
   ]
  },
  {
   "cell_type": "code",
   "execution_count": 7,
   "metadata": {},
   "outputs": [
    {
     "data": {
      "text/html": [
       "<div>\n",
       "<style scoped>\n",
       "    .dataframe tbody tr th:only-of-type {\n",
       "        vertical-align: middle;\n",
       "    }\n",
       "\n",
       "    .dataframe tbody tr th {\n",
       "        vertical-align: top;\n",
       "    }\n",
       "\n",
       "    .dataframe thead th {\n",
       "        text-align: right;\n",
       "    }\n",
       "</style>\n",
       "<table border=\"1\" class=\"dataframe\">\n",
       "  <thead>\n",
       "    <tr style=\"text-align: right;\">\n",
       "      <th></th>\n",
       "      <th>acoustic_data</th>\n",
       "      <th>time_to_failure</th>\n",
       "      <th>seq</th>\n",
       "    </tr>\n",
       "  </thead>\n",
       "  <tbody>\n",
       "    <tr>\n",
       "      <th>0</th>\n",
       "      <td>12</td>\n",
       "      <td>1.4690999832</td>\n",
       "      <td>0.0</td>\n",
       "    </tr>\n",
       "    <tr>\n",
       "      <th>1</th>\n",
       "      <td>6</td>\n",
       "      <td>1.4690999821</td>\n",
       "      <td>0.0</td>\n",
       "    </tr>\n",
       "    <tr>\n",
       "      <th>2</th>\n",
       "      <td>8</td>\n",
       "      <td>1.4690999810</td>\n",
       "      <td>0.0</td>\n",
       "    </tr>\n",
       "    <tr>\n",
       "      <th>3</th>\n",
       "      <td>5</td>\n",
       "      <td>1.4690999799</td>\n",
       "      <td>0.0</td>\n",
       "    </tr>\n",
       "    <tr>\n",
       "      <th>4</th>\n",
       "      <td>8</td>\n",
       "      <td>1.4690999788</td>\n",
       "      <td>0.0</td>\n",
       "    </tr>\n",
       "  </tbody>\n",
       "</table>\n",
       "</div>"
      ],
      "text/plain": [
       "   acoustic_data  time_to_failure  seq\n",
       "0             12     1.4690999832  0.0\n",
       "1              6     1.4690999821  0.0\n",
       "2              8     1.4690999810  0.0\n",
       "3              5     1.4690999799  0.0\n",
       "4              8     1.4690999788  0.0"
      ]
     },
     "execution_count": 7,
     "metadata": {},
     "output_type": "execute_result"
    }
   ],
   "source": [
    "# pandas doesn't show us all the decimals\n",
    "pd.options.display.precision = 15\n",
    "train.head()"
   ]
  },
  {
   "cell_type": "code",
   "execution_count": 8,
   "metadata": {},
   "outputs": [
    {
     "data": {
      "image/png": "[encoded data removed]",
      "text/plain": [
       "<Figure size 432x288 with 1 Axes>"
      ]
     },
     "metadata": {
      "needs_background": "light"
     },
     "output_type": "display_data"
    }
   ],
   "source": [
    "# lets check our sequnces worked on a known failure point\n",
    "train['seq'][5600000:5700000].astype(float).plot();"
   ]
  },
  {
   "cell_type": "code",
   "execution_count": 9,
   "metadata": {},
   "outputs": [
    {
     "name": "stdout",
     "output_type": "stream",
     "text": [
      "Seq:0, 5656574\n",
      "Seq:1, 44429304\n",
      "Seq:2, 54591478\n",
      "Seq:3, 34095097\n",
      "Seq:4, 48869367\n",
      "Seq:5, 31010810\n",
      "Seq:6, 27176955\n",
      "Seq:7, 62009332\n",
      "Seq:8, 30437370\n",
      "Seq:9, 37101561\n",
      "Seq:10, 43991032\n",
      "Seq:11, 42442743\n",
      "Seq:12, 33988602\n",
      "Seq:13, 32976890\n",
      "Seq:14, 56791029\n",
      "Seq:15, 36417529\n",
      "Seq:16, 7159807\n"
     ]
    }
   ],
   "source": [
    "sequences = np.arange(0,17,1)\n",
    "sequenceDict = dict()\n",
    "for seq in sequences:\n",
    "    sequenceDict[seq] = train.loc[train['seq']==seq].reset_index(drop=True)\n",
    "    print('Seq:{}, {}'.format(seq, len(sequenceDict[seq])), end='\\r\\n')"
   ]
  },
  {
   "cell_type": "markdown",
   "metadata": {},
   "source": [
    "# Training Data Prep\n",
    "\n",
    "1. There are 150,000 rows in each test segment. \n",
    "2. The training data is reduced from 6 millions rows to summary features every 150,000 rows. (~5000 summary rows).\n",
    "3. Lets use our sequenceFailure data to avoid summarising over failure points e.g. (5,4,3,2,1,0,5,4,3,2,1) \n",
    "\n",
    "## Feature Engineering"
   ]
  },
  {
   "cell_type": "code",
   "execution_count": 10,
   "metadata": {},
   "outputs": [],
   "source": [
    "test = sequenceDict[0]\n",
    "test1 = test[-150000:]\n",
    "x = test1['acoustic_data']"
   ]
  },
  {
   "cell_type": "code",
   "execution_count": 11,
   "metadata": {},
   "outputs": [],
   "source": [
    "def getSequenceSegments(sequenceDF,rows):\n",
    "    segments = int(np.floor(sequenceDF.shape[0] / rows))\n",
    "    return segments"
   ]
  },
  {
   "cell_type": "code",
   "execution_count": 12,
   "metadata": {},
   "outputs": [
    {
     "data": {
      "text/plain": [
       "37"
      ]
     },
     "execution_count": 12,
     "metadata": {},
     "output_type": "execute_result"
    }
   ],
   "source": [
    "getSequenceSegments(test,150000)"
   ]
  },
  {
   "cell_type": "code",
   "execution_count": 13,
   "metadata": {},
   "outputs": [
    {
     "data": {
      "text/plain": [
       "[<matplotlib.lines.Line2D at 0x7f3171946ac8>]"
      ]
     },
     "execution_count": 13,
     "metadata": {},
     "output_type": "execute_result"
    },
    {
     "data": {
      "image/png": "[encoded data removed]",
      "text/plain": [
       "<Figure size 432x288 with 1 Axes>"
      ]
     },
     "metadata": {
      "needs_background": "light"
     },
     "output_type": "display_data"
    }
   ],
   "source": [
    "plt.plot(x.values)\n",
    "plt.plot([x.mean()]*len(x))\n",
    "#plt.plot(((x-x.mean())/x.std()).values)"
   ]
  },
  {
   "cell_type": "code",
   "execution_count": 14,
   "metadata": {},
   "outputs": [],
   "source": [
    "def getFeatures(sequenceDF,seqID,getY=bool):\n",
    "    acoustics = sequenceDF['acoustic_data'].copy()\n",
    "    x = acoustics.values\n",
    "    \n",
    "    X_train = pd.DataFrame({'segID':seqID,\n",
    "                            'ave':x.mean(),\n",
    "                            'median':np.median(x),\n",
    "                            'std':x.std(),\n",
    "                            'max':x.max().astype(float),\n",
    "                            'min':x.min().astype(float),\n",
    "                            'total':abs(x).sum().astype(float), # total abs acoustic\n",
    "                            'cumul':abs(x).cumsum().sum().astype(float),\n",
    "                            'PoT05':len(x[(x >= x.mean()+0.5*x.std()) | (x <= x.mean()-0.5*x.std())])/len(x), # peaks over/under threshold (1*std)\n",
    "                            'PoT1':len(x[(x >= x.mean()+1*x.std()) | (x <= x.mean()-1*x.std())])/len(x), # peaks over/under threshold (1*std))\n",
    "                            'PoT2':len(x[(x >= x.mean()+2*x.std()) | (x <= x.mean()-2*x.std())])/len(x), # peaks over/under threshold (1*std)\n",
    "                            'PoT3':len(x[(x >= x.mean()+3*x.std()) | (x <= x.mean()-3*x.std())])/len(x), # peaks over/under threshold (1*std)\n",
    "                            'RDN1':float(len(x[abs(x)/abs(x).mean()>=1])), # rainy day normal\n",
    "                            'RDN2':float(len(x[abs(x)/abs(x).mean()>=2])), # rainy day normal\n",
    "                            'RDN4':float(len(x[abs(x)/abs(x).mean()>=4])), # rainy day normal\n",
    "                            'RDN8':float(len(x[abs(x)/abs(x).mean()>=6])), # rainy day normal\n",
    "                            'RDN12':float(len(x[abs(x)/abs(x).mean()>=7])), # rainy day normal\n",
    "                            'meanDiff':acoustics.diff().mean(), # change per step [max, median]\n",
    "                            'stdDiff':acoustics.diff().std(), #  change per step [max, median]\n",
    "                            'maxDiff':acoustics.diff().max(), #  change per step [max, median]\n",
    "                            'Q001Diff':np.quantile(x,0.001), # Quantile\n",
    "                            'Q01Diff':np.quantile(x,0.01), # Quantile\n",
    "                            'Q05Diff':np.quantile(x,0.05), # Quantile\n",
    "                            'Q10Diff':np.quantile(x,0.10), # Quantile\n",
    "                            'Q999Diff':np.quantile(x,0.999), # Quantile\n",
    "                            'Q99Diff':np.quantile(x,0.99), # Quantile\n",
    "                            'Q95Diff':np.quantile(x,0.95), # Quantile\n",
    "                            'Q90Diff':np.quantile(x,0.90), # Quantile\n",
    "                            'Qrng10-90':np.subtract(*np.percentile(x, [90, 10])) # Quartile Range from 0.05 to 0.95% (range of values)\n",
    "                           },index=[0])\n",
    "    \n",
    "    # IF so that we can re-use this later and not pass any y's\n",
    "    if getY == True:\n",
    "        y = sequenceDF['time_to_failure'].values[-1]\n",
    "        y_train = pd.DataFrame({'segID':seqID,\n",
    "                                'time_to_failure':y},index=[0])\n",
    "        return X_train, y_train\n",
    "    else:\n",
    "        return X_train"
   ]
  },
  {
   "cell_type": "code",
   "execution_count": 15,
   "metadata": {},
   "outputs": [
    {
     "data": {
      "text/html": [
       "<div>\n",
       "<style scoped>\n",
       "    .dataframe tbody tr th:only-of-type {\n",
       "        vertical-align: middle;\n",
       "    }\n",
       "\n",
       "    .dataframe tbody tr th {\n",
       "        vertical-align: top;\n",
       "    }\n",
       "\n",
       "    .dataframe thead th {\n",
       "        text-align: right;\n",
       "    }\n",
       "</style>\n",
       "<table border=\"1\" class=\"dataframe\">\n",
       "  <thead>\n",
       "    <tr style=\"text-align: right;\">\n",
       "      <th></th>\n",
       "      <th>segID</th>\n",
       "      <th>ave</th>\n",
       "      <th>median</th>\n",
       "      <th>std</th>\n",
       "      <th>max</th>\n",
       "      <th>min</th>\n",
       "      <th>total</th>\n",
       "      <th>cumul</th>\n",
       "      <th>PoT05</th>\n",
       "      <th>PoT1</th>\n",
       "      <th>...</th>\n",
       "      <th>maxDiff</th>\n",
       "      <th>Q001Diff</th>\n",
       "      <th>Q01Diff</th>\n",
       "      <th>Q05Diff</th>\n",
       "      <th>Q10Diff</th>\n",
       "      <th>Q999Diff</th>\n",
       "      <th>Q99Diff</th>\n",
       "      <th>Q95Diff</th>\n",
       "      <th>Q90Diff</th>\n",
       "      <th>Qrng10-90</th>\n",
       "    </tr>\n",
       "  </thead>\n",
       "  <tbody>\n",
       "    <tr>\n",
       "      <th>0</th>\n",
       "      <td>99</td>\n",
       "      <td>4.560983026121465</td>\n",
       "      <td>5.0</td>\n",
       "      <td>23.427838329705629</td>\n",
       "      <td>3252.0</td>\n",
       "      <td>-4621.0</td>\n",
       "      <td>35185198.0</td>\n",
       "      <td>97168998187958.0</td>\n",
       "      <td>0.041876054304248</td>\n",
       "      <td>0.014699887246238</td>\n",
       "      <td>...</td>\n",
       "      <td>882.0</td>\n",
       "      <td>-69.0</td>\n",
       "      <td>-14.0</td>\n",
       "      <td>-3.0</td>\n",
       "      <td>0.0</td>\n",
       "      <td>79.0</td>\n",
       "      <td>24.0</td>\n",
       "      <td>12.0</td>\n",
       "      <td>10.0</td>\n",
       "      <td>10.0</td>\n",
       "    </tr>\n",
       "  </tbody>\n",
       "</table>\n",
       "<p>1 rows × 29 columns</p>\n",
       "</div>"
      ],
      "text/plain": [
       "   segID                ave  median                 std     max     min  \\\n",
       "0     99  4.560983026121465     5.0  23.427838329705629  3252.0 -4621.0   \n",
       "\n",
       "        total             cumul              PoT05               PoT1  \\\n",
       "0  35185198.0  97168998187958.0  0.041876054304248  0.014699887246238   \n",
       "\n",
       "     ...      maxDiff  Q001Diff  Q01Diff  Q05Diff  Q10Diff  Q999Diff  Q99Diff  \\\n",
       "0    ...        882.0     -69.0    -14.0     -3.0      0.0      79.0     24.0   \n",
       "\n",
       "   Q95Diff  Q90Diff  Qrng10-90  \n",
       "0     12.0     10.0       10.0  \n",
       "\n",
       "[1 rows x 29 columns]"
      ]
     },
     "execution_count": 15,
     "metadata": {},
     "output_type": "execute_result"
    }
   ],
   "source": [
    "getFeatures(test,99,getY=False)"
   ]
  },
  {
   "cell_type": "code",
   "execution_count": 16,
   "metadata": {},
   "outputs": [],
   "source": [
    "# for r in [10,5000,20000,]:\n",
    "#     x.rolling(window=r,min_periods=r).mean().plot()\n",
    "    \n",
    "# plt.plot(x.index, [x.mean()]*len(x))\n",
    "# plt.plot(x.index, [x.mean()+x.std()]*len(x))\n",
    "# plt.plot(x.index, [x.mean()-x.std()]*len(x))"
   ]
  },
  {
   "cell_type": "code",
   "execution_count": 17,
   "metadata": {},
   "outputs": [
    {
     "name": "stdout",
     "output_type": "stream",
     "text": [
      "0,1,2,3,4,5,6,7,8,9,10,11,12,13,14,15,16,"
     ]
    }
   ],
   "source": [
    "# Create a training file with simple derived features\n",
    "Xs = list()\n",
    "ys = list()\n",
    "rows = 150000\n",
    "segID = 0\n",
    "\n",
    "for seq in sequences:\n",
    "    print(seq, end=',')\n",
    "    sequenceDF = sequenceDict[seq].copy() # take copy of entire failure sequence\n",
    "    nSegments = getSequenceSegments(sequenceDF,rows) # get number of 150,000 row segments per sequence\n",
    "    \n",
    "    for segment in range(nSegments):\n",
    "        segDF = sequenceDF.iloc[segment*rows:segment*rows+rows].copy()\n",
    "        xDF,yDF = getFeatures(segDF,segID,getY=True)\n",
    "        segID+=1\n",
    "        Xs.append(xDF)\n",
    "        ys.append(yDF)\n",
    "    \n",
    "    # manually add the last 150,000 to capture failure\n",
    "    segDF = sequenceDF[-rows:].copy()\n",
    "    xDF,yDF = getFeatures(segDF,segID,getY=True)\n",
    "    segID+=1\n",
    "    Xs.append(xDF)\n",
    "    ys.append(yDF)"
   ]
  },
  {
   "cell_type": "code",
   "execution_count": 18,
   "metadata": {},
   "outputs": [],
   "source": [
    "X_train = pd.concat(Xs,sort=False).reset_index(drop=True)\n",
    "y_train = pd.concat(ys,sort=False).reset_index(drop=True)"
   ]
  },
  {
   "cell_type": "code",
   "execution_count": 19,
   "metadata": {},
   "outputs": [
    {
     "data": {
      "text/html": [
       "<div>\n",
       "<style scoped>\n",
       "    .dataframe tbody tr th:only-of-type {\n",
       "        vertical-align: middle;\n",
       "    }\n",
       "\n",
       "    .dataframe tbody tr th {\n",
       "        vertical-align: top;\n",
       "    }\n",
       "\n",
       "    .dataframe thead th {\n",
       "        text-align: right;\n",
       "    }\n",
       "</style>\n",
       "<table border=\"1\" class=\"dataframe\">\n",
       "  <thead>\n",
       "    <tr style=\"text-align: right;\">\n",
       "      <th></th>\n",
       "      <th>segID</th>\n",
       "      <th>ave</th>\n",
       "      <th>median</th>\n",
       "      <th>std</th>\n",
       "      <th>max</th>\n",
       "      <th>min</th>\n",
       "      <th>total</th>\n",
       "      <th>cumul</th>\n",
       "      <th>PoT05</th>\n",
       "      <th>PoT1</th>\n",
       "      <th>...</th>\n",
       "      <th>maxDiff</th>\n",
       "      <th>Q001Diff</th>\n",
       "      <th>Q01Diff</th>\n",
       "      <th>Q05Diff</th>\n",
       "      <th>Q10Diff</th>\n",
       "      <th>Q999Diff</th>\n",
       "      <th>Q99Diff</th>\n",
       "      <th>Q95Diff</th>\n",
       "      <th>Q90Diff</th>\n",
       "      <th>Qrng10-90</th>\n",
       "    </tr>\n",
       "  </thead>\n",
       "  <tbody>\n",
       "    <tr>\n",
       "      <th>0</th>\n",
       "      <td>0</td>\n",
       "      <td>4.884113333333334</td>\n",
       "      <td>5.0</td>\n",
       "      <td>5.101089126891323</td>\n",
       "      <td>104.0</td>\n",
       "      <td>-98.0</td>\n",
       "      <td>836485.0</td>\n",
       "      <td>65908881756.0</td>\n",
       "      <td>0.474920000000000</td>\n",
       "      <td>0.182500000000000</td>\n",
       "      <td>...</td>\n",
       "      <td>32.0</td>\n",
       "      <td>-30.0</td>\n",
       "      <td>-8.0</td>\n",
       "      <td>-2.0</td>\n",
       "      <td>0.0</td>\n",
       "      <td>40.00000000000000</td>\n",
       "      <td>18.0</td>\n",
       "      <td>11.0</td>\n",
       "      <td>10.0</td>\n",
       "      <td>10.0</td>\n",
       "    </tr>\n",
       "    <tr>\n",
       "      <th>1</th>\n",
       "      <td>1</td>\n",
       "      <td>4.725766666666667</td>\n",
       "      <td>5.0</td>\n",
       "      <td>6.588801819164257</td>\n",
       "      <td>181.0</td>\n",
       "      <td>-154.0</td>\n",
       "      <td>860125.0</td>\n",
       "      <td>66025576390.0</td>\n",
       "      <td>0.336520000000000</td>\n",
       "      <td>0.115280000000000</td>\n",
       "      <td>...</td>\n",
       "      <td>78.0</td>\n",
       "      <td>-47.0</td>\n",
       "      <td>-11.0</td>\n",
       "      <td>-2.0</td>\n",
       "      <td>0.0</td>\n",
       "      <td>59.00000000000000</td>\n",
       "      <td>21.0</td>\n",
       "      <td>12.0</td>\n",
       "      <td>10.0</td>\n",
       "      <td>10.0</td>\n",
       "    </tr>\n",
       "    <tr>\n",
       "      <th>2</th>\n",
       "      <td>2</td>\n",
       "      <td>4.906393333333333</td>\n",
       "      <td>5.0</td>\n",
       "      <td>6.967373808828945</td>\n",
       "      <td>140.0</td>\n",
       "      <td>-106.0</td>\n",
       "      <td>922897.0</td>\n",
       "      <td>66426535142.0</td>\n",
       "      <td>0.362873333333333</td>\n",
       "      <td>0.121560000000000</td>\n",
       "      <td>...</td>\n",
       "      <td>47.0</td>\n",
       "      <td>-47.0</td>\n",
       "      <td>-15.0</td>\n",
       "      <td>-3.0</td>\n",
       "      <td>0.0</td>\n",
       "      <td>59.00000000000000</td>\n",
       "      <td>26.0</td>\n",
       "      <td>13.0</td>\n",
       "      <td>10.0</td>\n",
       "      <td>10.0</td>\n",
       "    </tr>\n",
       "    <tr>\n",
       "      <th>3</th>\n",
       "      <td>3</td>\n",
       "      <td>4.902240000000000</td>\n",
       "      <td>5.0</td>\n",
       "      <td>6.922282112791032</td>\n",
       "      <td>197.0</td>\n",
       "      <td>-199.0</td>\n",
       "      <td>890094.0</td>\n",
       "      <td>67391753310.0</td>\n",
       "      <td>0.340106666666667</td>\n",
       "      <td>0.101206666666667</td>\n",
       "      <td>...</td>\n",
       "      <td>68.0</td>\n",
       "      <td>-50.0</td>\n",
       "      <td>-12.0</td>\n",
       "      <td>-2.0</td>\n",
       "      <td>0.0</td>\n",
       "      <td>60.00099999998929</td>\n",
       "      <td>22.0</td>\n",
       "      <td>12.0</td>\n",
       "      <td>10.0</td>\n",
       "      <td>10.0</td>\n",
       "    </tr>\n",
       "    <tr>\n",
       "      <th>4</th>\n",
       "      <td>4</td>\n",
       "      <td>4.908720000000000</td>\n",
       "      <td>5.0</td>\n",
       "      <td>7.301085852684289</td>\n",
       "      <td>145.0</td>\n",
       "      <td>-126.0</td>\n",
       "      <td>916588.0</td>\n",
       "      <td>67425069281.0</td>\n",
       "      <td>0.342166666666667</td>\n",
       "      <td>0.091966666666667</td>\n",
       "      <td>...</td>\n",
       "      <td>43.0</td>\n",
       "      <td>-56.0</td>\n",
       "      <td>-15.0</td>\n",
       "      <td>-2.0</td>\n",
       "      <td>0.0</td>\n",
       "      <td>65.00000000000000</td>\n",
       "      <td>26.0</td>\n",
       "      <td>12.0</td>\n",
       "      <td>10.0</td>\n",
       "      <td>10.0</td>\n",
       "    </tr>\n",
       "  </tbody>\n",
       "</table>\n",
       "<p>5 rows × 29 columns</p>\n",
       "</div>"
      ],
      "text/plain": [
       "   segID                ave  median                std    max    min  \\\n",
       "0      0  4.884113333333334     5.0  5.101089126891323  104.0  -98.0   \n",
       "1      1  4.725766666666667     5.0  6.588801819164257  181.0 -154.0   \n",
       "2      2  4.906393333333333     5.0  6.967373808828945  140.0 -106.0   \n",
       "3      3  4.902240000000000     5.0  6.922282112791032  197.0 -199.0   \n",
       "4      4  4.908720000000000     5.0  7.301085852684289  145.0 -126.0   \n",
       "\n",
       "      total          cumul              PoT05               PoT1    ...      \\\n",
       "0  836485.0  65908881756.0  0.474920000000000  0.182500000000000    ...       \n",
       "1  860125.0  66025576390.0  0.336520000000000  0.115280000000000    ...       \n",
       "2  922897.0  66426535142.0  0.362873333333333  0.121560000000000    ...       \n",
       "3  890094.0  67391753310.0  0.340106666666667  0.101206666666667    ...       \n",
       "4  916588.0  67425069281.0  0.342166666666667  0.091966666666667    ...       \n",
       "\n",
       "   maxDiff  Q001Diff  Q01Diff  Q05Diff  Q10Diff           Q999Diff  Q99Diff  \\\n",
       "0     32.0     -30.0     -8.0     -2.0      0.0  40.00000000000000     18.0   \n",
       "1     78.0     -47.0    -11.0     -2.0      0.0  59.00000000000000     21.0   \n",
       "2     47.0     -47.0    -15.0     -3.0      0.0  59.00000000000000     26.0   \n",
       "3     68.0     -50.0    -12.0     -2.0      0.0  60.00099999998929     22.0   \n",
       "4     43.0     -56.0    -15.0     -2.0      0.0  65.00000000000000     26.0   \n",
       "\n",
       "   Q95Diff  Q90Diff  Qrng10-90  \n",
       "0     11.0     10.0       10.0  \n",
       "1     12.0     10.0       10.0  \n",
       "2     13.0     10.0       10.0  \n",
       "3     12.0     10.0       10.0  \n",
       "4     12.0     10.0       10.0  \n",
       "\n",
       "[5 rows x 29 columns]"
      ]
     },
     "execution_count": 19,
     "metadata": {},
     "output_type": "execute_result"
    }
   ],
   "source": [
    "X_train.head()"
   ]
  },
  {
   "cell_type": "markdown",
   "metadata": {},
   "source": [
    "# Feature Selection\n",
    "- https://blog.datadive.net/selecting-good-features-part-iv-stability-selection-rfe-and-everything-side-by-side/\n",
    "\n",
    "### [Simple RFE](https://medium.com/@aneesha/recursive-feature-elimination-with-scikit-learn-3a2cbdf23fb7)\n",
    " - https://scikit-learn.org/stable/auto_examples/feature_selection/plot_rfe_digits.html#sphx-glr-auto-examples-feature-selection-plot-rfe-digits-py\n",
    " - https://www.kaggle.com/shrutigodbole15792/feature-selection\n",
    " - https://ramhiser.com/post/2018-03-25-feature-selection-with-scikit-learn-pipeline/\n",
    "\n",
    "### [RFE Pipelines](https://stackoverflow.com/questions/32208546/combining-recursive-feature-elimination-and-grid-search-in-scikit-learn)\n",
    " - https://stackoverflow.com/questions/36683230/grid-search-with-recursive-feature-elimination-in-scikit-learn-pipeline-returns"
   ]
  },
  {
   "cell_type": "code",
   "execution_count": 35,
   "metadata": {},
   "outputs": [
    {
     "data": {
      "image/png": "[encoded data removed]",
      "text/plain": [
       "<Figure size 432x288 with 1 Axes>"
      ]
     },
     "metadata": {
      "needs_background": "light"
     },
     "output_type": "display_data"
    }
   ],
   "source": [
    "X_train.iloc[:,1:].corrwith(y_train.iloc[:,1]).sort_values().plot.bar();\n",
    "#pd.plotting.scatter_matrix(X_train.iloc[:,1:],figsize=(15,15));\n",
    "#(X_train.iloc[:,1:].corr())[abs(X_train.iloc[:,1:].corr()>0.5)]"
   ]
  },
  {
   "cell_type": "code",
   "execution_count": 36,
   "metadata": {},
   "outputs": [],
   "source": [
    "from sklearn.feature_selection import RFE,RFECV\n",
    "from sklearn.linear_model import LinearRegression\n",
    "from sklearn.preprocessing import StandardScaler"
   ]
  },
  {
   "cell_type": "code",
   "execution_count": 37,
   "metadata": {},
   "outputs": [
    {
     "name": "stderr",
     "output_type": "stream",
     "text": [
      "  7%|▋         | 2/28 [00:00<00:01, 15.93it/s]"
     ]
    },
    {
     "name": "stdout",
     "output_type": "stream",
     "text": [
      "N features = 28\n"
     ]
    },
    {
     "name": "stderr",
     "output_type": "stream",
     "text": [
      "100%|██████████| 28/28 [00:00<00:00, 28.44it/s]\n"
     ]
    },
    {
     "data": {
      "image/png": "[encoded data removed]",
      "text/plain": [
       "<Figure size 432x288 with 1 Axes>"
      ]
     },
     "metadata": {
      "needs_background": "light"
     },
     "output_type": "display_data"
    }
   ],
   "source": [
    "nFeatures = len(X_train.iloc[:,1:].columns)\n",
    "print('N features = {}'.format(nFeatures))\n",
    "\n",
    "scaler = StandardScaler()\n",
    "scaler.fit(X_train.iloc[:,1:])\n",
    "X_train_scaled = scaler.transform(X_train.iloc[:,1:])\n",
    "\n",
    "# create the RFE model and select attributes\n",
    "estimator = LinearRegression()\n",
    "\n",
    "rfeResults = dict()\n",
    "\n",
    "for x in tqdm([x for x in range(1,nFeatures+1,1)]):\n",
    "    rfe = RFE(estimator, n_features_to_select=x, step=1)\n",
    "    #rfe = RFECV(estimator, min_features_to_select=x, step=1, cv=5)\n",
    "    rfe = rfe.fit(X_train_scaled, y_train.iloc[:,1].values.flatten())\n",
    "    rfeResults[x] = rfe\n",
    "    \n",
    "for k,v in rfeResults.items():\n",
    "    # print summaries for the selection of attributes\n",
    "    plt.scatter(k,v.score(X_train_scaled, y_train.iloc[:,1].values.flatten()))\n",
    "    #print(v.support_)\n",
    "    #print(v.ranking_)"
   ]
  },
  {
   "cell_type": "code",
   "execution_count": 40,
   "metadata": {},
   "outputs": [
    {
     "data": {
      "text/plain": [
       "array([ True, False,  True,  True,  True,  True, False, False, False,\n",
       "        True,  True,  True,  True,  True,  True, False, False,  True,\n",
       "       False,  True,  True,  True,  True, False,  True,  True,  True,\n",
       "        True])"
      ]
     },
     "execution_count": 40,
     "metadata": {},
     "output_type": "execute_result"
    }
   ],
   "source": [
    "rfeResults[16].support_"
   ]
  },
  {
   "cell_type": "code",
   "execution_count": 263,
   "metadata": {},
   "outputs": [],
   "source": [
    "# take columns wth best support\n",
    "X = X_train[X_train.iloc[:,1:].columns[rfeResults[16].support_]].copy()\n",
    "y = y_train.iloc[:,1].copy()"
   ]
  },
  {
   "cell_type": "markdown",
   "metadata": {},
   "source": [
    "# Clustering \n",
    "\n",
    "### - [GMM](https://www.datascience.com/blog/k-means-alternatives)\n",
    "### - [GMM Sklearn](https://scikit-learn.org/stable/auto_examples/mixture/plot_gmm_covariances.html#sphx-glr-auto-examples-mixture-plot-gmm-covariances-py)\n",
    "### - [Clustering with GMM](https://scikit-learn.org/stable/auto_examples/mixture/plot_gmm_selection.html)"
   ]
  },
  {
   "cell_type": "code",
   "execution_count": 264,
   "metadata": {},
   "outputs": [],
   "source": [
    "scaler = StandardScaler()\n",
    "scaler.fit(X)\n",
    "X_train_scaled = scaler.transform(X)"
   ]
  },
  {
   "cell_type": "code",
   "execution_count": 282,
   "metadata": {},
   "outputs": [
    {
     "name": "stderr",
     "output_type": "stream",
     "text": [
      "/home/ben/anaconda3/lib/python3.7/site-packages/ipykernel_launcher.py:1: RuntimeWarning: invalid value encountered in log\n",
      "  \"\"\"Entry point for launching an IPython kernel.\n"
     ]
    },
    {
     "data": {
      "text/plain": [
       "<matplotlib.axes._subplots.AxesSubplot at 0x7f2e9ce50a20>"
      ]
     },
     "execution_count": 282,
     "metadata": {},
     "output_type": "execute_result"
    },
    {
     "data": {
      "image/png": "[encoded data removed]",
      "text/plain": [
       "<Figure size 720x360 with 1 Axes>"
      ]
     },
     "metadata": {
      "needs_background": "light"
     },
     "output_type": "display_data"
    }
   ],
   "source": [
    "pd.DataFrame(np.log(X_train_scaled),columns=X.columns).iloc[:,11:15].plot.kde(legend=True, figsize=(10,5))\n",
    "#plt.xlim(-3,3);"
   ]
  },
  {
   "cell_type": "code",
   "execution_count": 234,
   "metadata": {},
   "outputs": [],
   "source": []
  },
  {
   "cell_type": "code",
   "execution_count": 235,
   "metadata": {},
   "outputs": [],
   "source": [
    "#Predict GMM cluster membership\n",
    "from sklearn.mixture import GaussianMixture\n",
    "\n",
    "GMMresults = {}\n",
    "inst = {}\n",
    "bic = []\n",
    "n_components_range = range(1, 16)\n",
    "cv_types = ['spherical', 'tied', 'diag', 'full']\n",
    "\n",
    "for n_components in n_components_range:\n",
    "    comp = {}\n",
    "    for cv_type in cv_types:\n",
    "        GMM = GaussianMixture(n_components=n_components,\n",
    "                              covariance_type=cv_type,\n",
    "                              max_iter=300,).fit(X_train_scaled)\n",
    "        #GMM.predict(X)\n",
    "        comp[cv_type] = GMM.bic(X_train_scaled)\n",
    "        inst['{}_{}'.format(n_components,cv_type)] = GMM\n",
    "        \n",
    "    GMMresults[n_components] = comp"
   ]
  },
  {
   "cell_type": "code",
   "execution_count": 241,
   "metadata": {},
   "outputs": [
    {
     "data": {
      "image/png": "[encoded data removed]",
      "text/plain": [
       "<Figure size 1080x648 with 15 Axes>"
      ]
     },
     "metadata": {
      "needs_background": "light"
     },
     "output_type": "display_data"
    }
   ],
   "source": [
    "fig,axs = plt.subplots(3,5,figsize=(15,9),sharex=True,sharey=True)\n",
    "\n",
    "for n_components,ax in zip(n_components_range,axs.flatten()):\n",
    "    ax.bar([0,1,2,3],[v for (k,v) in GMMresults[n_components].items()])\n",
    "    ax.set_xticks([0,1,2,3])\n",
    "    ax.set_xticklabels(['spherical', 'tied', 'diag', 'full'],rotation=90)\n",
    "    ax.set_title(n_components)\n",
    "    ax.set_ylim(-220000,-150000)"
   ]
  },
  {
   "cell_type": "code",
   "execution_count": 253,
   "metadata": {},
   "outputs": [
    {
     "data": {
      "text/plain": [
       "array([13, 13,  9, ...,  2,  2,  2])"
      ]
     },
     "execution_count": 253,
     "metadata": {},
     "output_type": "execute_result"
    }
   ],
   "source": [
    "GMM = GaussianMixture(n_components=15,\n",
    "                              covariance_type='full',\n",
    "                              max_iter=300,).fit(X_train_scaled)\n",
    "GMM.predict(X_train_scaled)"
   ]
  },
  {
   "cell_type": "code",
   "execution_count": 254,
   "metadata": {},
   "outputs": [],
   "source": [
    "X['cluster'] = GMM.predict(X_train_scaled)\n",
    "X['y'] = y"
   ]
  },
  {
   "cell_type": "code",
   "execution_count": 259,
   "metadata": {},
   "outputs": [
    {
     "data": {
      "text/plain": [
       "cluster\n",
       "0     4.513966156336707\n",
       "1     0.291964614473333\n",
       "2     9.130986160700981\n",
       "3     5.426075208848505\n",
       "4     2.244725760340000\n",
       "5     0.298508111639000\n",
       "6     8.034196480670294\n",
       "7     2.666867072155408\n",
       "8     7.051003849769583\n",
       "9     2.734738626813784\n",
       "10    2.502540977278696\n",
       "11    5.653172599825000\n",
       "12    4.242493387041113\n",
       "13    3.931418561056406\n",
       "14    7.768509930189910\n",
       "Name: y, dtype: float64"
      ]
     },
     "execution_count": 259,
     "metadata": {},
     "output_type": "execute_result"
    }
   ],
   "source": [
    "X.groupby(['cluster']).mean().T.loc['y']"
   ]
  },
  {
   "cell_type": "markdown",
   "metadata": {},
   "source": [
    " - ### Choosing N Cluster\n",
    " - [Silhouette Score](https://scikit-learn.org/stable/auto_examples/cluster/plot_kmeans_silhouette_analysis.html)\n",
    " - [Cluster Score](https://scikit-learn.org/stable/modules/generated/sklearn.cluster.KMeans.html)\n",
    "### [KNN](https://www.analyticsvidhya.com/blog/2018/08/k-nearest-neighbor-introduction-regression-python/)\n",
    " - [sklearn doc](https://scikit-learn.org/stable/modules/generated/sklearn.neighbors.KNeighborsClassifier.html)\n",
    " - [clustered regression](https://stats.stackexchange.com/questions/139042/ensemble-of-different-kinds-of-regressors-using-scikit-learn-or-any-other-pytho)"
   ]
  },
  {
   "cell_type": "code",
   "execution_count": 42,
   "metadata": {},
   "outputs": [
    {
     "name": "stderr",
     "output_type": "stream",
     "text": [
      "100%|██████████| 11/11 [01:24<00:00, 10.04s/it]\n"
     ]
    }
   ],
   "source": [
    "# https://scikit-learn.org/stable/modules/generated/sklearn.cluster.KMeans.html\n",
    "#  scores = https://stackoverflow.com/questions/32370543/understanding-score-returned-by-scikit-learn-kmeans\n",
    "from sklearn.cluster import KMeans\n",
    "\n",
    "# silhoutte scoring\n",
    "# https://stackoverflow.com/questions/51138686/how-to-use-silhouette-score-in-k-means-clustering-from-sklearn-library\n",
    "# https://scikit-learn.org/stable/auto_examples/cluster/plot_kmeans_silhouette_analysis.html#sphx-glr-auto-examples-cluster-plot-kmeans-silhouette-analysis-py\n",
    "from sklearn.metrics import silhouette_samples, silhouette_score\n",
    "\n",
    "scaler = StandardScaler()\n",
    "scaler.fit(X)\n",
    "X_train_scaled = scaler.transform(X)\n",
    "\n",
    "silhouetteScores = list()\n",
    "Kclusters = np.arange(10,120,10)\n",
    "\n",
    "k_score = {}\n",
    "for k in tqdm(Kclusters):\n",
    "    KM = KMeans(n_clusters=k,\n",
    "                init='k-means++',\n",
    "                max_iter=300,\n",
    "                n_init=25,\n",
    "                n_jobs=-1)\n",
    "    \n",
    "    KM = KM.fit(X_train_scaled)\n",
    "    k_score[k] = KM.score(X_train_scaled)\n",
    "    \n",
    "    preds = KM.fit_predict(X_train_scaled)\n",
    "    centers = KM.cluster_centers_\n",
    "    score = silhouette_score \n",
    "    silhouetteScores.append(silhouette_score(X_train_scaled, preds, metric='euclidean'))\n",
    "#     silhouetteScores.append(silhouette_score(X, KM.labels_, sample_size=10000, random_state=99))"
   ]
  },
  {
   "cell_type": "code",
   "execution_count": 43,
   "metadata": {},
   "outputs": [
    {
     "data": {
      "image/png": "[encoded data removed]",
      "text/plain": [
       "<Figure size 360x360 with 2 Axes>"
      ]
     },
     "metadata": {
      "needs_background": "light"
     },
     "output_type": "display_data"
    }
   ],
   "source": [
    "# interpret\n",
    "fig,axs = plt.subplots(1,1,figsize=(5,5))\n",
    "\n",
    "silScore = Kclusters[np.argmax(silhouetteScores)]\n",
    "kScore = Kclusters[np.argmin([v for k,v in k_score.items()])]\n",
    "\n",
    "axs.plot(k_score.keys(),k_score.values(), color='black', label='kScore');\n",
    "axs.set_ylabel('Kmeans Scores')\n",
    "\n",
    "ax2 = axs.twinx()\n",
    "ax2.plot(Kclusters,silhouetteScores, color='blue', label='silScore');\n",
    "ax2.set_ylabel('Silhouette Scores')\n",
    "\n",
    "axs.set_title('Best Kscore = {}\\n'\\\n",
    "              'Best Silhouette = {}'.format(kScore,silScore))\n",
    "fig.legend();"
   ]
  },
  {
   "cell_type": "code",
   "execution_count": null,
   "metadata": {},
   "outputs": [],
   "source": [
    "KM = KMeans(n_clusters=10,\n",
    "            init='k-means++',\n",
    "            max_iter=300,\n",
    "            n_init=25,\n",
    "            n_jobs=-1\n",
    "           )\n",
    "KM.fit(X_train_scaled)"
   ]
  },
  {
   "cell_type": "code",
   "execution_count": null,
   "metadata": {},
   "outputs": [],
   "source": [
    "# take columns wth best support\n",
    "X = X_train[X_train.iloc[:,1:].columns[rfeResults[15].support_]].copy()\n",
    "y = y_train.iloc[:,1].values.flatten().copy()\n",
    "\n",
    "X['Clusters'] = KM.predict(X_train_scaled).astype(float)\n",
    "\n",
    "# manual refit 3 to 9\n",
    "X.loc[X['Clusters']==3.0,'Clusters'] = 9.0\n",
    "X['Clusters'].value_counts().plot.bar(figsize=(15,4));"
   ]
  },
  {
   "cell_type": "code",
   "execution_count": null,
   "metadata": {},
   "outputs": [],
   "source": [
    "X['y'] = y\n",
    "X.groupby('Clusters').mean()"
   ]
  },
  {
   "cell_type": "code",
   "execution_count": null,
   "metadata": {},
   "outputs": [],
   "source": [
    "data = {}\n",
    "\n",
    "for k in X['Clusters'].unique():\n",
    "    dat = dict()\n",
    "    dat['X'] = X.loc[X['Clusters']==k].iloc[:,:-2].reset_index(drop=True).copy()\n",
    "    dat['y'] = X.loc[X['Clusters']==k].iloc[:,-1].reset_index(drop=True).copy()\n",
    "    data[k] = dat"
   ]
  },
  {
   "cell_type": "markdown",
   "metadata": {},
   "source": [
    "# Train, Predict & Score\n",
    " - [notes on feature scaling](https://scikit-learn.org/stable/auto_examples/preprocessing/plot_scaling_importance.html)"
   ]
  },
  {
   "cell_type": "code",
   "execution_count": null,
   "metadata": {},
   "outputs": [],
   "source": [
    "from sklearn.pipeline import Pipeline\n",
    "from sklearn.model_selection import GridSearchCV\n",
    "from sklearn.decomposition import PCA\n",
    "from sklearn.metrics import mean_absolute_error, make_scorer"
   ]
  },
  {
   "cell_type": "code",
   "execution_count": null,
   "metadata": {},
   "outputs": [],
   "source": [
    "MAEscorer = make_scorer(mean_absolute_error, greater_is_better=False)\n",
    "models = dict()"
   ]
  },
  {
   "cell_type": "markdown",
   "metadata": {},
   "source": [
    "### [NuSVR](https://scikit-learn.org/stable/modules/generated/sklearn.svm.NuSVR.html#sklearn.svm.NuSVR)"
   ]
  },
  {
   "cell_type": "code",
   "execution_count": null,
   "metadata": {},
   "outputs": [],
   "source": [
    "from sklearn.svm import NuSVR\n",
    "def makeSVR():\n",
    "    pipe = Pipeline([('scaler', StandardScaler()),\n",
    "                     ('pca',PCA()),\n",
    "                     ('model', NuSVR())])\n",
    "\n",
    "    params = {'pca__n_components': [2,4,6],\n",
    "              'model__kernel':['rbf'],\n",
    "              'model__nu': [0.5,0.75,0.9],\n",
    "              'model__C': [1,2,2.5],\n",
    "              'model__gamma': ['auto'],\n",
    "              }\n",
    "\n",
    "    gs_NuSVR = GridSearchCV(estimator=pipe,\n",
    "                            param_grid=params,\n",
    "                            scoring=MAEscorer,\n",
    "                            n_jobs=-1,\n",
    "                            iid=False,\n",
    "                            cv=3)\n",
    "    return gs_NuSVR\n",
    "\n",
    "# %time gs_NuSVR = gs_NuSVR.fit(X,y)\n",
    "\n",
    "# print('\\n',gs_NuSVR.best_score_,'\\n', gs_NuSVR.best_params_,)\n",
    "# models.append(gs_NuSVR)"
   ]
  },
  {
   "cell_type": "markdown",
   "metadata": {},
   "source": [
    "### [XGBRegressor](https://xgboost.readthedocs.io/en/latest/python/python_api.html#module-xgboost.sklearn)"
   ]
  },
  {
   "cell_type": "code",
   "execution_count": null,
   "metadata": {},
   "outputs": [],
   "source": [
    "from xgboost import XGBRegressor\n",
    "\n",
    "def makeXGB():\n",
    "    pipe = Pipeline([('scaler', StandardScaler()),\n",
    "                     ('pca',PCA()),\n",
    "                     ('model', XGBRegressor())])\n",
    "\n",
    "    params = {'pca__n_components': [2,4,6],\n",
    "              'model__max_depth':[3,4,5,10],\n",
    "              'model__learning_rate': [0.001,0.01,0.1],\n",
    "              'model__n_estimators': [25,30,35,50],}\n",
    "\n",
    "    gs_XGB = GridSearchCV(estimator=pipe,\n",
    "                          param_grid=params,\n",
    "                          scoring=MAEscorer,\n",
    "                          n_jobs=-1,\n",
    "                          iid=False,\n",
    "                          cv=3)\n",
    "    return gs_XGB\n",
    "\n",
    "# %time gs_XGB = gs_XGB.fit(X,y)\n",
    "# print('\\n',gs_XGB.best_score_,'\\n', gs_XGB.best_params_,)\n",
    "# models.append(gs_XGB)"
   ]
  },
  {
   "cell_type": "markdown",
   "metadata": {},
   "source": [
    "### [Elasticnet](https://scikit-learn.org/stable/modules/generated/sklearn.linear_model.ElasticNet.html#sklearn.linear_model.ElasticNet)"
   ]
  },
  {
   "cell_type": "code",
   "execution_count": null,
   "metadata": {},
   "outputs": [],
   "source": [
    "from sklearn.linear_model import ElasticNet\n",
    "\n",
    "def makeEN():\n",
    "    pipe = Pipeline([('scaler', StandardScaler()),\n",
    "                     ('pca',PCA()),\n",
    "                     ('model', ElasticNet())])\n",
    "\n",
    "    params = {'pca__n_components': [2,4,6],\n",
    "              'model__alpha':[0.5,1.0],\n",
    "              'model__l1_ratio': [0.75,1.0],\n",
    "              'model__max_iter': [1000],}\n",
    "\n",
    "    gs_EN = GridSearchCV(estimator=pipe,\n",
    "                         param_grid=params,\n",
    "                         scoring=MAEscorer,\n",
    "                         n_jobs=-1,\n",
    "                         iid=False,\n",
    "                         cv=3)\n",
    "    return gs_EN\n",
    "\n",
    "# %time gs_EN = gs_EN.fit(X,y)\n",
    "# print('\\n',gs_EN.best_score_,'\\n', gs_EN.best_params_,)\n",
    "# models.append(gs_EN)"
   ]
  },
  {
   "cell_type": "code",
   "execution_count": null,
   "metadata": {},
   "outputs": [],
   "source": [
    "for k,v in data.items():\n",
    "    \n",
    "    svr = makeSVR()\n",
    "    v['SVR'] = svr.fit(v['X'],v['y'])\n",
    "    v['SVR_score'] = v['SVR'].best_score_\n",
    "    \n",
    "    xgb = makeXGB()\n",
    "    v['XGB'] = xgb.fit(v['X'],v['y'])\n",
    "    v['XGB_score'] = v['XGB'].best_score_\n",
    "    \n",
    "    eNet = makeEN()\n",
    "    v['eNet'] = eNet.fit(v['X'],v['y'])\n",
    "    v['eNet_score'] = v['eNet'].best_score_"
   ]
  },
  {
   "cell_type": "code",
   "execution_count": null,
   "metadata": {},
   "outputs": [],
   "source": [
    "results = pd.DataFrame([(k,v['eNet_score'],v['XGB_score'],v['SVR_score']) for k,v in data.items()], columns=['K','eNet','XGB','SVR'])\n",
    "results['best'] = results.iloc[:,1:].idxmax(axis=1)\n",
    "results.sort_values(by='K',inplace=True)\n",
    "results"
   ]
  },
  {
   "cell_type": "markdown",
   "metadata": {},
   "source": [
    "# Predict on Test Data and Write Submission"
   ]
  },
  {
   "cell_type": "code",
   "execution_count": null,
   "metadata": {},
   "outputs": [],
   "source": [
    "submission = pd.read_csv(os.path.join(root,'sample_submission.csv'), index_col='seg_id')\n",
    "submission.head()"
   ]
  },
  {
   "cell_type": "code",
   "execution_count": null,
   "metadata": {},
   "outputs": [],
   "source": [
    "X_tests = list()\n",
    "for seg_id in tqdm(submission.index[:]):\n",
    "    seg = pd.read_csv(os.path.join(root,os.path.join('test',seg_id))+ '.csv')\n",
    "    X_tests.append(getFeatures(seg,seg_id,getY=False))"
   ]
  },
  {
   "cell_type": "code",
   "execution_count": null,
   "metadata": {},
   "outputs": [],
   "source": [
    "X_test = pd.concat(X_tests).set_index(keys='segID',drop=True)"
   ]
  },
  {
   "cell_type": "code",
   "execution_count": null,
   "metadata": {},
   "outputs": [],
   "source": [
    "# take columns wth best support\n",
    "X_test = X_test[X_test.iloc[:,:].columns[rfeResults[15].support_]].copy()\n",
    "X_test.head()"
   ]
  },
  {
   "cell_type": "code",
   "execution_count": null,
   "metadata": {},
   "outputs": [],
   "source": [
    "scaler = StandardScaler()\n",
    "scaler.fit(X_test)\n",
    "X_test_scaled = scaler.transform(X_test)\n",
    "X_test['Clusters'] = KM.predict(X_test_scaled).astype(float)\n",
    "\n",
    "# manual refit 3 to 9\n",
    "X_test.loc[X_test['Clusters']==3.0,'Clusters'] = 9.0\n",
    "X_test['pred'] = np.float()"
   ]
  },
  {
   "cell_type": "code",
   "execution_count": null,
   "metadata": {},
   "outputs": [],
   "source": [
    "for k,mod in results[['K','best']].values:\n",
    "    print(k,mod, data[k]['{}_score'.format(mod)])\n",
    "    X_test.loc[X_test['Clusters']==k,'pred'] = data[k][mod].predict(X_test.loc[X_test['Clusters']==k].iloc[:,:-2])"
   ]
  },
  {
   "cell_type": "code",
   "execution_count": null,
   "metadata": {},
   "outputs": [],
   "source": [
    "results"
   ]
  },
  {
   "cell_type": "code",
   "execution_count": null,
   "metadata": {},
   "outputs": [],
   "source": [
    "data[4]['SVR_score']"
   ]
  },
  {
   "cell_type": "code",
   "execution_count": null,
   "metadata": {},
   "outputs": [],
   "source": [
    "submission['time_to_failure'] = X_test['pred']\n",
    "print(len(submission))\n",
    "submission.head()"
   ]
  },
  {
   "cell_type": "code",
   "execution_count": null,
   "metadata": {},
   "outputs": [],
   "source": [
    "submission.isnull().sum()"
   ]
  },
  {
   "cell_type": "code",
   "execution_count": null,
   "metadata": {},
   "outputs": [],
   "source": [
    "submission.to_csv(os.path.join(root,'{}.0_Ensemble_submission.csv'.format(version)))"
   ]
  },
  {
   "cell_type": "markdown",
   "metadata": {},
   "source": [
    "# 4.1 NuSVR is new best 1.522\n",
    "\n",
    "## next trials\n",
    " - RFE with grid search\n",
    " - [catBoost](https://www.kaggle.com/jazivxt/aftershock?scriptVersionId=9634938)\n",
    " - [See this kernel](https://www.kaggle.com/artgor/earthquakes-fe-more-features-and-samples)\n"
   ]
  },
  {
   "cell_type": "code",
   "execution_count": null,
   "metadata": {},
   "outputs": [],
   "source": []
  }
 ],
 "metadata": {
  "kernelspec": {
   "display_name": "Python 3",
   "language": "python",
   "name": "python3"
  },
  "language_info": {
   "codemirror_mode": {
    "name": "ipython",
    "version": 3
   },
   "file_extension": ".py",
   "mimetype": "text/x-python",
   "name": "python",
   "nbconvert_exporter": "python",
   "pygments_lexer": "ipython3",
   "version": "3.7.2"
  }
 },
 "nbformat": 4,
 "nbformat_minor": 2
}

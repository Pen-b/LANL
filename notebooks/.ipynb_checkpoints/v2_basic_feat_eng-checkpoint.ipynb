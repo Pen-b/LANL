{
 "cells": [
  {
   "cell_type": "markdown",
   "metadata": {},
   "source": [
    "# [LANL competition](https://www.kaggle.com/c/LANL-Earthquake-Prediction)\n",
    "- [introduction](https://www.kaggle.com/c/LANL-Earthquake-Prediction/discussion/77525)\n",
    "- [Benchmark analysis](https://www.kaggle.com/inversion/basic-feature-benchmark/notebook)\n",
    "- [good EDA and discussion + comments](https://www.kaggle.com/allunia/shaking-earth/comments)"
   ]
  },
  {
   "cell_type": "code",
   "execution_count": 1,
   "metadata": {
    "_cell_guid": "b1076dfc-b9ad-4769-8c92-a6c4dae69d19",
    "_uuid": "8f2839f25d086af736a60e9eeb907d3b93b6e0e5"
   },
   "outputs": [],
   "source": [
    "import numpy as np\n",
    "import pandas as pd\n",
    "import os\n",
    "import matplotlib.pyplot as plt\n",
    "from tqdm import tqdm"
   ]
  },
  {
   "cell_type": "code",
   "execution_count": 3,
   "metadata": {},
   "outputs": [
    {
     "data": {
      "text/plain": [
       "'/home/ben/github/LANL/notebooks'"
      ]
     },
     "execution_count": 3,
     "metadata": {},
     "output_type": "execute_result"
    }
   ],
   "source": [
    "os.path.abspath('.')"
   ]
  },
  {
   "cell_type": "code",
   "execution_count": 4,
   "metadata": {},
   "outputs": [],
   "source": [
    "version='v2'"
   ]
  },
  {
   "cell_type": "code",
   "execution_count": 8,
   "metadata": {},
   "outputs": [
    {
     "data": {
      "text/plain": [
       "['all.zip',\n",
       " 'sample_submission.csv',\n",
       " 'test',\n",
       " 'test.zip',\n",
       " 'train.csv',\n",
       " 'train.hdf',\n",
       " 'v1_submission.csv']"
      ]
     },
     "execution_count": 8,
     "metadata": {},
     "output_type": "execute_result"
    }
   ],
   "source": [
    "root = 'D:\\\\LANL\\\\all' # windows\n",
    "root = '/media/ben/data/kaggle/LANL/' # linux\n",
    "\n",
    "os.listdir(root)"
   ]
  },
  {
   "cell_type": "markdown",
   "metadata": {},
   "source": [
    "# Load Training Data"
   ]
  },
  {
   "cell_type": "code",
   "execution_count": 6,
   "metadata": {},
   "outputs": [],
   "source": [
    "# # load 9GB csv\n",
    "# train = pd.read_csv(os.path.join(root,'train.csv'), dtype={'acoustic_data': np.int16, 'time_to_failure': np.float64})"
   ]
  },
  {
   "cell_type": "markdown",
   "metadata": {},
   "source": [
    "### Failure sequences\n",
    "There are 16 failures in the data set, but the time-to-fail only ever reaches very small decimals.<br>\n",
    "The last rows do *NOT* end in a failure. \n",
    "\n",
    "- when loading the data..\n",
    "- Lets, use the time difference to identify where the T2F jumps back up and mark these as failures."
   ]
  },
  {
   "cell_type": "code",
   "execution_count": 12,
   "metadata": {},
   "outputs": [
    {
     "name": "stderr",
     "output_type": "stream",
     "text": [
      "630it [02:36,  4.04it/s]\n"
     ]
    },
    {
     "name": "stdout",
     "output_type": "stream",
     "text": [
      "Out:629145480\n"
     ]
    }
   ],
   "source": [
    "try:\n",
    "    train = pd.read_hdf(os.path.join(root,'{}_train.hdf'.format(version)),'mydata')\n",
    "except:\n",
    "    # load in as chunks\n",
    "    chunksize = 10 ** 6\n",
    "    chunks = list()\n",
    "    sequenceNumber = 0 # first failure sequence\n",
    "    \n",
    "    for chunk in tqdm(pd.read_csv(os.path.join(root,'train.csv'),\n",
    "                             dtype={'acoustic_data': np.int16, 'time_to_failure': np.float64},\n",
    "                             chunksize=chunksize)):\n",
    "\n",
    "        chunk['seq'] = chunk['time_to_failure'].diff() # get time difference between each step\n",
    "        chunk['seq'] = (chunk['seq']>0).astype(float).copy() # float binary column where time_difference between steps is positive (i.e. reset after failure)\n",
    "        chunk['seq'].values[0] = sequenceNumber # set first as sequenceNumber\n",
    "        chunk['seq'] = chunk['seq'].cumsum().copy() # sum up sequence values\n",
    "        chunks.append(chunk) # append results to list\n",
    "        sequenceNumber = chunk['seq'].values[-1] # get latest sequnce number\n",
    "        \n",
    "    # concat chunks & save\n",
    "    train = pd.concat(chunks)\n",
    "    print('Out:{}'.format(len(train)))\n",
    "    train.to_hdf(os.path.join(root,'{}_train.hdf'.format(version)),'mydata',mode='w')"
   ]
  },
  {
   "cell_type": "code",
   "execution_count": 14,
   "metadata": {},
   "outputs": [
    {
     "data": {
      "text/html": [
       "<div>\n",
       "<style scoped>\n",
       "    .dataframe tbody tr th:only-of-type {\n",
       "        vertical-align: middle;\n",
       "    }\n",
       "\n",
       "    .dataframe tbody tr th {\n",
       "        vertical-align: top;\n",
       "    }\n",
       "\n",
       "    .dataframe thead th {\n",
       "        text-align: right;\n",
       "    }\n",
       "</style>\n",
       "<table border=\"1\" class=\"dataframe\">\n",
       "  <thead>\n",
       "    <tr style=\"text-align: right;\">\n",
       "      <th></th>\n",
       "      <th>acoustic_data</th>\n",
       "      <th>time_to_failure</th>\n",
       "      <th>seq</th>\n",
       "    </tr>\n",
       "  </thead>\n",
       "  <tbody>\n",
       "    <tr>\n",
       "      <th>0</th>\n",
       "      <td>12</td>\n",
       "      <td>1.4690999832</td>\n",
       "      <td>0.0</td>\n",
       "    </tr>\n",
       "    <tr>\n",
       "      <th>1</th>\n",
       "      <td>6</td>\n",
       "      <td>1.4690999821</td>\n",
       "      <td>0.0</td>\n",
       "    </tr>\n",
       "    <tr>\n",
       "      <th>2</th>\n",
       "      <td>8</td>\n",
       "      <td>1.4690999810</td>\n",
       "      <td>0.0</td>\n",
       "    </tr>\n",
       "    <tr>\n",
       "      <th>3</th>\n",
       "      <td>5</td>\n",
       "      <td>1.4690999799</td>\n",
       "      <td>0.0</td>\n",
       "    </tr>\n",
       "    <tr>\n",
       "      <th>4</th>\n",
       "      <td>8</td>\n",
       "      <td>1.4690999788</td>\n",
       "      <td>0.0</td>\n",
       "    </tr>\n",
       "  </tbody>\n",
       "</table>\n",
       "</div>"
      ],
      "text/plain": [
       "   acoustic_data  time_to_failure  seq\n",
       "0             12     1.4690999832  0.0\n",
       "1              6     1.4690999821  0.0\n",
       "2              8     1.4690999810  0.0\n",
       "3              5     1.4690999799  0.0\n",
       "4              8     1.4690999788  0.0"
      ]
     },
     "execution_count": 14,
     "metadata": {},
     "output_type": "execute_result"
    }
   ],
   "source": [
    "# pandas doesn't show us all the decimals\n",
    "pd.options.display.precision = 15\n",
    "train.head()"
   ]
  },
  {
   "cell_type": "code",
   "execution_count": 23,
   "metadata": {},
   "outputs": [
    {
     "data": {
      "image/png": "[encoded data removed]",
      "text/plain": [
       "<Figure size 432x288 with 1 Axes>"
      ]
     },
     "metadata": {
      "needs_background": "light"
     },
     "output_type": "display_data"
    }
   ],
   "source": [
    "# lets check our sequnces worked on a known failure point\n",
    "train['seq'][5600000:5700000].astype(float).plot();"
   ]
  },
  {
   "cell_type": "code",
   "execution_count": 39,
   "metadata": {},
   "outputs": [
    {
     "name": "stdout",
     "output_type": "stream",
     "text": [
      "Seq:0, 5656574\n",
      "Seq:1, 44429304\n",
      "Seq:2, 54591478\n",
      "Seq:3, 34095097\n",
      "Seq:4, 48869367\n",
      "Seq:5, 31010810\n",
      "Seq:6, 27176955\n",
      "Seq:7, 62009332\n",
      "Seq:8, 30437370\n",
      "Seq:9, 37101561\n",
      "Seq:10, 43991032\n",
      "Seq:11, 42442743\n",
      "Seq:12, 33988602\n",
      "Seq:13, 32976890\n",
      "Seq:14, 56791029\n",
      "Seq:15, 36417529\n",
      "Seq:16, 7159807\n"
     ]
    }
   ],
   "source": [
    "sequences = np.arange(0,17,1)\n",
    "sequenceDict = dict()\n",
    "for seq in sequences:\n",
    "    sequenceDict[seq] = train.loc[train['seq']==seq].reset_index(drop=True)\n",
    "    print('Seq:{}, {}'.format(seq, len(sequenceDict[seq])), end='\\r\\n')"
   ]
  },
  {
   "cell_type": "markdown",
   "metadata": {},
   "source": [
    "# Training Data Prep\n",
    "\n",
    "1. There are 150,000 rows in each test segment. \n",
    "2. The training data is reduced from 6 millions rows to summary features every 150,000 rows. (~5000 summary rows).\n",
    "3. Lets use our sequenceFailure data to avoid summarising over failure points e.g. (5,4,3,2,1,0,5,4,3,2,1) \n",
    "\n",
    "## Feature Engineering"
   ]
  },
  {
   "cell_type": "code",
   "execution_count": 221,
   "metadata": {},
   "outputs": [],
   "source": [
    "test = sequenceDict[0]\n",
    "test1 = test[-150000:]\n",
    "x = test1['acoustic_data']"
   ]
  },
  {
   "cell_type": "code",
   "execution_count": 243,
   "metadata": {},
   "outputs": [],
   "source": [
    "def getSequenceSegments(sequenceDF,rows):\n",
    "    segments = int(np.floor(sequenceDF.shape[0] / rows))\n",
    "    return segments"
   ]
  },
  {
   "cell_type": "code",
   "execution_count": 245,
   "metadata": {},
   "outputs": [
    {
     "data": {
      "text/plain": [
       "37"
      ]
     },
     "execution_count": 245,
     "metadata": {},
     "output_type": "execute_result"
    }
   ],
   "source": [
    "getSequenceSegments(test,150000)"
   ]
  },
  {
   "cell_type": "code",
   "execution_count": 421,
   "metadata": {},
   "outputs": [],
   "source": [
    "def getFeatures(sequenceDF,seqID,getY=bool):\n",
    "    acoustics = sequenceDF['acoustic_data'].copy()\n",
    "    x = acoustics.values\n",
    "    \n",
    "    X_train = pd.DataFrame({'segID':seqID,\n",
    "                            'ave':x.mean(),\n",
    "                            'std':x.std(),\n",
    "                            'max':x.max(),\n",
    "                            'min':x.min(),\n",
    "                            'total':abs(x).sum(), # total abs acoustic\n",
    "                            'PoT':len(x[(x >= x.mean()+x.std()) | (x <= x.mean()-x.std())])/len(x), # peaks over/under threshold (1*std)\n",
    "                            'meanDiff':acoustics.diff().mean(), # change per step [max, median]\n",
    "                            'stdDiff':acoustics.diff().std(), #  change per step [max, median]\n",
    "                            'maxDiff':acoustics.diff().max(), #  change per step [max, median]\n",
    "                            'Q001Diff':np.quantile(x,0.001), # Quantile\n",
    "                            'Q01Diff':np.quantile(x,0.01), # Quantile\n",
    "                            'Q05Diff':np.quantile(x,0.05), # Quantile\n",
    "                            'Q10Diff':np.quantile(x,0.10), # Quantile\n",
    "                            'Q999Diff':np.quantile(x,0.999), # Quantile\n",
    "                            'Q99Diff':np.quantile(x,0.99), # Quantile\n",
    "                            'Q95Diff':np.quantile(x,0.95), # Quantile\n",
    "                            'Q90Diff':np.quantile(x,0.90), # Quantile\n",
    "                            'Qrng5-95':np.subtract(*np.percentile(x, [95, 5])) # Quartile Range from 0.05 to 0.95% (range of values)\n",
    "                           },index=[0])\n",
    "    \n",
    "    # IF so that we can re-use this later and not pass any y's\n",
    "    if getY == True:\n",
    "        y = sequenceDF['time_to_failure'].values[-1]\n",
    "        y_train = pd.DataFrame({'segID':seqID,\n",
    "                                'time_to_failure':y},index=[0])\n",
    "        return X_train, y_train\n",
    "    else:\n",
    "        return X_train"
   ]
  },
  {
   "cell_type": "code",
   "execution_count": 422,
   "metadata": {},
   "outputs": [
    {
     "data": {
      "text/html": [
       "<div>\n",
       "<style scoped>\n",
       "    .dataframe tbody tr th:only-of-type {\n",
       "        vertical-align: middle;\n",
       "    }\n",
       "\n",
       "    .dataframe tbody tr th {\n",
       "        vertical-align: top;\n",
       "    }\n",
       "\n",
       "    .dataframe thead th {\n",
       "        text-align: right;\n",
       "    }\n",
       "</style>\n",
       "<table border=\"1\" class=\"dataframe\">\n",
       "  <thead>\n",
       "    <tr style=\"text-align: right;\">\n",
       "      <th></th>\n",
       "      <th>segID</th>\n",
       "      <th>ave</th>\n",
       "      <th>std</th>\n",
       "      <th>max</th>\n",
       "      <th>min</th>\n",
       "      <th>total</th>\n",
       "      <th>PoT</th>\n",
       "      <th>meanDiff</th>\n",
       "      <th>stdDiff</th>\n",
       "      <th>maxDiff</th>\n",
       "      <th>Q001Diff</th>\n",
       "      <th>Q01Diff</th>\n",
       "      <th>Q05Diff</th>\n",
       "      <th>Q10Diff</th>\n",
       "      <th>Q999Diff</th>\n",
       "      <th>Q99Diff</th>\n",
       "      <th>Q95Diff</th>\n",
       "      <th>Q90Diff</th>\n",
       "      <th>Qrng5-95</th>\n",
       "    </tr>\n",
       "  </thead>\n",
       "  <tbody>\n",
       "    <tr>\n",
       "      <th>0</th>\n",
       "      <td>99</td>\n",
       "      <td>4.327093333333333</td>\n",
       "      <td>3.279653937733201</td>\n",
       "      <td>56</td>\n",
       "      <td>-50</td>\n",
       "      <td>689528</td>\n",
       "      <td>0.296566666666667</td>\n",
       "      <td>0.000020000133334</td>\n",
       "      <td>3.118594182425988</td>\n",
       "      <td>21.0</td>\n",
       "      <td>-14.0</td>\n",
       "      <td>-3.0</td>\n",
       "      <td>-1.0</td>\n",
       "      <td>1.0</td>\n",
       "      <td>22.0</td>\n",
       "      <td>12.0</td>\n",
       "      <td>9.0</td>\n",
       "      <td>8.0</td>\n",
       "      <td>10.0</td>\n",
       "    </tr>\n",
       "  </tbody>\n",
       "</table>\n",
       "</div>"
      ],
      "text/plain": [
       "   segID                ave                std  max  min   total  \\\n",
       "0     99  4.327093333333333  3.279653937733201   56  -50  689528   \n",
       "\n",
       "                 PoT           meanDiff            stdDiff  maxDiff  Q001Diff  \\\n",
       "0  0.296566666666667  0.000020000133334  3.118594182425988     21.0     -14.0   \n",
       "\n",
       "   Q01Diff  Q05Diff  Q10Diff  Q999Diff  Q99Diff  Q95Diff  Q90Diff  Qrng5-95  \n",
       "0     -3.0     -1.0      1.0      22.0     12.0      9.0      8.0      10.0  "
      ]
     },
     "execution_count": 422,
     "metadata": {},
     "output_type": "execute_result"
    }
   ],
   "source": [
    "getFeatures(test1,99,getY=True)[0]"
   ]
  },
  {
   "cell_type": "code",
   "execution_count": 423,
   "metadata": {},
   "outputs": [],
   "source": [
    "# for r in [10,5000,20000,]:\n",
    "#     x.rolling(window=r,min_periods=r).mean().plot()\n",
    "    \n",
    "# plt.plot(x.index, [x.mean()]*len(x))\n",
    "# plt.plot(x.index, [x.mean()+x.std()]*len(x))\n",
    "# plt.plot(x.index, [x.mean()-x.std()]*len(x))"
   ]
  },
  {
   "cell_type": "code",
   "execution_count": 467,
   "metadata": {},
   "outputs": [
    {
     "name": "stdout",
     "output_type": "stream",
     "text": [
      "0,1,2,3,4,5,6,7,8,9,10,11,12,13,14,15,16,"
     ]
    }
   ],
   "source": [
    "# Create a training file with simple derived features\n",
    "X = list()\n",
    "y = list()\n",
    "rows = 150000\n",
    "segID = 0\n",
    "\n",
    "for seq in sequences:\n",
    "    print(seq, end=',')\n",
    "    sequenceDF = sequenceDict[seq].copy() # take copy of entire failure sequence\n",
    "    nSegments = getSequenceSegments(sequenceDF,rows) # get number of 150,000 row segments per sequence\n",
    "    \n",
    "    for segment in range(nSegments):\n",
    "        segDF = sequenceDF.iloc[segment*rows:segment*rows+rows].copy()\n",
    "        xDF,yDF = getFeatures(segDF,segID,getY=True)\n",
    "        segID+=1\n",
    "        X.append(xDF)\n",
    "        y.append(yDF)\n",
    "    \n",
    "#     # manually add the last 150,000 to capture failure\n",
    "#     segDF = sequenceDF[-rows:].copy()\n",
    "#     xDF,yDF = getFeatures(segDF,segID)\n",
    "#     segID+=1\n",
    "#     X.append(xDF)\n",
    "#     y.append(yDF)\n",
    "    "
   ]
  },
  {
   "cell_type": "code",
   "execution_count": 495,
   "metadata": {},
   "outputs": [],
   "source": [
    "X_train = pd.concat(X,sort=False).reset_index(drop=True)\n",
    "y_train = pd.concat(y,sort=False).reset_index(drop=True)"
   ]
  },
  {
   "cell_type": "code",
   "execution_count": 496,
   "metadata": {},
   "outputs": [
    {
     "data": {
      "text/html": [
       "<div>\n",
       "<style scoped>\n",
       "    .dataframe tbody tr th:only-of-type {\n",
       "        vertical-align: middle;\n",
       "    }\n",
       "\n",
       "    .dataframe tbody tr th {\n",
       "        vertical-align: top;\n",
       "    }\n",
       "\n",
       "    .dataframe thead th {\n",
       "        text-align: right;\n",
       "    }\n",
       "</style>\n",
       "<table border=\"1\" class=\"dataframe\">\n",
       "  <thead>\n",
       "    <tr style=\"text-align: right;\">\n",
       "      <th></th>\n",
       "      <th>segID</th>\n",
       "      <th>ave</th>\n",
       "      <th>std</th>\n",
       "      <th>max</th>\n",
       "      <th>min</th>\n",
       "      <th>total</th>\n",
       "      <th>PoT</th>\n",
       "      <th>meanDiff</th>\n",
       "      <th>stdDiff</th>\n",
       "      <th>maxDiff</th>\n",
       "      <th>Q001Diff</th>\n",
       "      <th>Q01Diff</th>\n",
       "      <th>Q05Diff</th>\n",
       "      <th>Q10Diff</th>\n",
       "      <th>Q999Diff</th>\n",
       "      <th>Q99Diff</th>\n",
       "      <th>Q95Diff</th>\n",
       "      <th>Q90Diff</th>\n",
       "      <th>Qrng5-95</th>\n",
       "    </tr>\n",
       "  </thead>\n",
       "  <tbody>\n",
       "    <tr>\n",
       "      <th>0</th>\n",
       "      <td>0</td>\n",
       "      <td>4.884113333333334</td>\n",
       "      <td>5.101089126891323</td>\n",
       "      <td>104</td>\n",
       "      <td>-98</td>\n",
       "      <td>836485</td>\n",
       "      <td>0.182500000000000</td>\n",
       "      <td>-0.000080000533337</td>\n",
       "      <td>3.395810224471091</td>\n",
       "      <td>32.0</td>\n",
       "      <td>-30.0</td>\n",
       "      <td>-8.0</td>\n",
       "      <td>-2.0</td>\n",
       "      <td>0.0</td>\n",
       "      <td>40.00000000000000</td>\n",
       "      <td>18.0</td>\n",
       "      <td>11.0</td>\n",
       "      <td>10.0</td>\n",
       "      <td>13.0</td>\n",
       "    </tr>\n",
       "    <tr>\n",
       "      <th>1</th>\n",
       "      <td>1</td>\n",
       "      <td>4.725766666666667</td>\n",
       "      <td>6.588801819164257</td>\n",
       "      <td>181</td>\n",
       "      <td>-154</td>\n",
       "      <td>860125</td>\n",
       "      <td>0.115280000000000</td>\n",
       "      <td>0.000000000000000</td>\n",
       "      <td>3.675407476040564</td>\n",
       "      <td>78.0</td>\n",
       "      <td>-47.0</td>\n",
       "      <td>-11.0</td>\n",
       "      <td>-2.0</td>\n",
       "      <td>0.0</td>\n",
       "      <td>59.00000000000000</td>\n",
       "      <td>21.0</td>\n",
       "      <td>12.0</td>\n",
       "      <td>10.0</td>\n",
       "      <td>14.0</td>\n",
       "    </tr>\n",
       "    <tr>\n",
       "      <th>2</th>\n",
       "      <td>2</td>\n",
       "      <td>4.906393333333333</td>\n",
       "      <td>6.967373808828945</td>\n",
       "      <td>140</td>\n",
       "      <td>-106</td>\n",
       "      <td>922897</td>\n",
       "      <td>0.121560000000000</td>\n",
       "      <td>-0.000013333422223</td>\n",
       "      <td>3.755343042631861</td>\n",
       "      <td>47.0</td>\n",
       "      <td>-47.0</td>\n",
       "      <td>-15.0</td>\n",
       "      <td>-3.0</td>\n",
       "      <td>0.0</td>\n",
       "      <td>59.00000000000000</td>\n",
       "      <td>26.0</td>\n",
       "      <td>13.0</td>\n",
       "      <td>10.0</td>\n",
       "      <td>16.0</td>\n",
       "    </tr>\n",
       "    <tr>\n",
       "      <th>3</th>\n",
       "      <td>3</td>\n",
       "      <td>4.902240000000000</td>\n",
       "      <td>6.922282112791032</td>\n",
       "      <td>197</td>\n",
       "      <td>-199</td>\n",
       "      <td>890094</td>\n",
       "      <td>0.101206666666667</td>\n",
       "      <td>0.000000000000000</td>\n",
       "      <td>3.707969343700410</td>\n",
       "      <td>68.0</td>\n",
       "      <td>-50.0</td>\n",
       "      <td>-12.0</td>\n",
       "      <td>-2.0</td>\n",
       "      <td>0.0</td>\n",
       "      <td>60.00099999998929</td>\n",
       "      <td>22.0</td>\n",
       "      <td>12.0</td>\n",
       "      <td>10.0</td>\n",
       "      <td>14.0</td>\n",
       "    </tr>\n",
       "    <tr>\n",
       "      <th>4</th>\n",
       "      <td>4</td>\n",
       "      <td>4.908720000000000</td>\n",
       "      <td>7.301085852684289</td>\n",
       "      <td>145</td>\n",
       "      <td>-126</td>\n",
       "      <td>916588</td>\n",
       "      <td>0.091966666666667</td>\n",
       "      <td>-0.000006666711111</td>\n",
       "      <td>3.661533206772217</td>\n",
       "      <td>43.0</td>\n",
       "      <td>-56.0</td>\n",
       "      <td>-15.0</td>\n",
       "      <td>-2.0</td>\n",
       "      <td>0.0</td>\n",
       "      <td>65.00000000000000</td>\n",
       "      <td>26.0</td>\n",
       "      <td>12.0</td>\n",
       "      <td>10.0</td>\n",
       "      <td>14.0</td>\n",
       "    </tr>\n",
       "  </tbody>\n",
       "</table>\n",
       "</div>"
      ],
      "text/plain": [
       "   segID                ave                std  max  min   total  \\\n",
       "0      0  4.884113333333334  5.101089126891323  104  -98  836485   \n",
       "1      1  4.725766666666667  6.588801819164257  181 -154  860125   \n",
       "2      2  4.906393333333333  6.967373808828945  140 -106  922897   \n",
       "3      3  4.902240000000000  6.922282112791032  197 -199  890094   \n",
       "4      4  4.908720000000000  7.301085852684289  145 -126  916588   \n",
       "\n",
       "                 PoT           meanDiff            stdDiff  maxDiff  Q001Diff  \\\n",
       "0  0.182500000000000 -0.000080000533337  3.395810224471091     32.0     -30.0   \n",
       "1  0.115280000000000  0.000000000000000  3.675407476040564     78.0     -47.0   \n",
       "2  0.121560000000000 -0.000013333422223  3.755343042631861     47.0     -47.0   \n",
       "3  0.101206666666667  0.000000000000000  3.707969343700410     68.0     -50.0   \n",
       "4  0.091966666666667 -0.000006666711111  3.661533206772217     43.0     -56.0   \n",
       "\n",
       "   Q01Diff  Q05Diff  Q10Diff           Q999Diff  Q99Diff  Q95Diff  Q90Diff  \\\n",
       "0     -8.0     -2.0      0.0  40.00000000000000     18.0     11.0     10.0   \n",
       "1    -11.0     -2.0      0.0  59.00000000000000     21.0     12.0     10.0   \n",
       "2    -15.0     -3.0      0.0  59.00000000000000     26.0     13.0     10.0   \n",
       "3    -12.0     -2.0      0.0  60.00099999998929     22.0     12.0     10.0   \n",
       "4    -15.0     -2.0      0.0  65.00000000000000     26.0     12.0     10.0   \n",
       "\n",
       "   Qrng5-95  \n",
       "0      13.0  \n",
       "1      14.0  \n",
       "2      16.0  \n",
       "3      14.0  \n",
       "4      14.0  "
      ]
     },
     "execution_count": 496,
     "metadata": {},
     "output_type": "execute_result"
    }
   ],
   "source": [
    "X_train.head()"
   ]
  },
  {
   "cell_type": "markdown",
   "metadata": {},
   "source": [
    "# Train, Predict & Score\n",
    " - [notes on feature scaling](https://scikit-learn.org/stable/auto_examples/preprocessing/plot_scaling_importance.html)"
   ]
  },
  {
   "cell_type": "code",
   "execution_count": 497,
   "metadata": {},
   "outputs": [],
   "source": [
    "from sklearn.pipeline import Pipeline\n",
    "from sklearn.model_selection import GridSearchCV\n",
    "from sklearn.preprocessing import StandardScaler\n",
    "from sklearn.decomposition import PCA\n",
    "from sklearn.metrics import mean_absolute_error, make_scorer"
   ]
  },
  {
   "cell_type": "code",
   "execution_count": 498,
   "metadata": {},
   "outputs": [],
   "source": [
    "MAEscorer = make_scorer(mean_absolute_error, greater_is_better=False)\n",
    "models = list()"
   ]
  },
  {
   "cell_type": "markdown",
   "metadata": {},
   "source": [
    "### [NuSVR](https://scikit-learn.org/stable/modules/generated/sklearn.svm.NuSVR.html#sklearn.svm.NuSVR)"
   ]
  },
  {
   "cell_type": "code",
   "execution_count": 499,
   "metadata": {},
   "outputs": [
    {
     "name": "stdout",
     "output_type": "stream",
     "text": [
      "CPU times: user 1.8 s, sys: 24.5 s, total: 26.3 s\n",
      "Wall time: 43.5 s\n",
      "\n",
      " -2.162280967099161 \n",
      " {'model__C': 1, 'model__gamma': 'auto', 'model__kernel': 'rbf', 'model__nu': 0.75, 'pca__n_components': 16}\n"
     ]
    }
   ],
   "source": [
    "from sklearn.svm import NuSVR\n",
    "pipe = Pipeline([('scaler', StandardScaler()),\n",
    "                 ('pca',PCA()),\n",
    "                 ('model', NuSVR())])\n",
    "\n",
    "params = {'pca__n_components': [2,4,8,16],\n",
    "          'model__kernel':['rbf'],\n",
    "          'model__nu': [0.5,0.75,0.9],\n",
    "          'model__C': [1,2,2.5],\n",
    "          'model__gamma': ['auto'],\n",
    "          }\n",
    "\n",
    "gs_NuSVR = GridSearchCV(estimator=pipe,\n",
    "                        param_grid=params,\n",
    "                        scoring=MAEscorer,\n",
    "                        n_jobs=-1,\n",
    "                        cv=3)\n",
    "\n",
    "%time gs_NuSVR = gs_NuSVR.fit(X_train.iloc[:,1:], y_train.iloc[:,1].values.flatten())\n",
    "print('\\n',gs_NuSVR.best_score_,'\\n', gs_NuSVR.best_params_,)\n",
    "models.append(gs_NuSVR)"
   ]
  },
  {
   "cell_type": "markdown",
   "metadata": {},
   "source": [
    "### [XGBRegressor](https://xgboost.readthedocs.io/en/latest/python/python_api.html#module-xgboost.sklearn)"
   ]
  },
  {
   "cell_type": "code",
   "execution_count": 500,
   "metadata": {},
   "outputs": [
    {
     "name": "stdout",
     "output_type": "stream",
     "text": [
      "CPU times: user 1.86 s, sys: 25.2 s, total: 27.1 s\n",
      "Wall time: 37.3 s\n",
      "\n",
      " -2.2462868213328746 \n",
      " {'model__learning_rate ': 0.001, 'model__max_depth': 3, 'model__n_estimators': 75, 'pca__n_components': 16}\n"
     ]
    }
   ],
   "source": [
    "from xgboost import XGBRegressor\n",
    "pipe = Pipeline([('scaler', StandardScaler()),\n",
    "                 ('pca',PCA()),\n",
    "                 ('model', XGBRegressor())])\n",
    "\n",
    "params = {'pca__n_components': [2,4,8,16],\n",
    "          'model__max_depth':[3,4,5,],\n",
    "          'model__learning_rate ': [0.001,0.01,0.1],\n",
    "          'model__n_estimators': [75,100,125],}\n",
    "\n",
    "gs_XGB = GridSearchCV(estimator=pipe,\n",
    "                      param_grid=params,\n",
    "                      scoring=MAEscorer,\n",
    "                      n_jobs=-1,\n",
    "                      cv=3)\n",
    "\n",
    "%time gs_XGB = gs_XGB.fit(X_train.iloc[:,1:], y_train.iloc[:,1].values.flatten())\n",
    "print('\\n',gs_XGB.best_score_,'\\n', gs_XGB.best_params_,)\n",
    "models.append(gs_XGB)"
   ]
  },
  {
   "cell_type": "markdown",
   "metadata": {},
   "source": [
    "# Plot Results and [Residuals](http://blog.minitab.com/blog/adventures-in-statistics-2/why-you-need-to-check-your-residual-plots-for-regression-analysis)"
   ]
  },
  {
   "cell_type": "code",
   "execution_count": 501,
   "metadata": {},
   "outputs": [],
   "source": [
    "def plotResults(axis,model,title):\n",
    "    global X_train,y_train\n",
    "    y_act = y_train.iloc[:,1].values.flatten()\n",
    "    y_pred = model.best_estimator_.predict(X_train.iloc[:,1:])\n",
    "    score = mean_absolute_error(y_act, y_pred)\n",
    "    \n",
    "    axis.set_title('{}: {:.3f}'.format(title,score))\n",
    "    axis.scatter(y_act,y_pred, s=0.5,color='blue')\n",
    "    axis.plot([(0, 0), (20, 20)], [(0, 0), (20, 20)], lw=2,color='black')\n",
    "    axis.set_xlim(0,20)\n",
    "    axis.set_ylim(0,20)\n",
    "    axis.set_xlabel('actual', fontsize=12)\n",
    "    axis.set_ylabel('predicted', fontsize=12)"
   ]
  },
  {
   "cell_type": "code",
   "execution_count": 502,
   "metadata": {},
   "outputs": [],
   "source": [
    "def plotResidual(axis,model,title):\n",
    "    global X_train,y_train\n",
    "    y_act = y_train.iloc[:,1].values.flatten()\n",
    "    y_pred = model.best_estimator_.predict(X_train.iloc[:,1:])\n",
    "    residuals = y_act - y_pred\n",
    "    \n",
    "    axis.set_title('Residuals')\n",
    "    axis.scatter(y_pred,residuals,s=0.5,color='blue')\n",
    "    axis.plot([0,20], [0,0], lw=2,color='black')\n",
    "    axis.set_xlim(0,20)\n",
    "    axis.set_ylim(-15,15)\n",
    "    axis.set_xlabel('predicted', fontsize=12)\n",
    "    axis.set_ylabel('residual', fontsize=12)"
   ]
  },
  {
   "cell_type": "code",
   "execution_count": 503,
   "metadata": {},
   "outputs": [
    {
     "data": {
      "image/png": "[encoded data removed]",
      "text/plain": [
       "<Figure size 720x720 with 4 Axes>"
      ]
     },
     "metadata": {
      "needs_background": "light"
     },
     "output_type": "display_data"
    }
   ],
   "source": [
    "fig,axs = plt.subplots(2,2,figsize=(10,10), sharex=True)\n",
    "\n",
    "for e,(mod,nm) in enumerate(zip([gs_NuSVR,gs_XGB],['gs_NuSVR','gs_XGB'])):\n",
    "    plotResults(axs[e,0],mod,nm)\n",
    "    plotResidual(axs[e,1],mod,nm)"
   ]
  },
  {
   "cell_type": "markdown",
   "metadata": {},
   "source": [
    "# Predict on Test Data and Write Submission"
   ]
  },
  {
   "cell_type": "code",
   "execution_count": 504,
   "metadata": {},
   "outputs": [
    {
     "data": {
      "text/html": [
       "<div>\n",
       "<style scoped>\n",
       "    .dataframe tbody tr th:only-of-type {\n",
       "        vertical-align: middle;\n",
       "    }\n",
       "\n",
       "    .dataframe tbody tr th {\n",
       "        vertical-align: top;\n",
       "    }\n",
       "\n",
       "    .dataframe thead th {\n",
       "        text-align: right;\n",
       "    }\n",
       "</style>\n",
       "<table border=\"1\" class=\"dataframe\">\n",
       "  <thead>\n",
       "    <tr style=\"text-align: right;\">\n",
       "      <th></th>\n",
       "      <th>time_to_failure</th>\n",
       "    </tr>\n",
       "    <tr>\n",
       "      <th>seg_id</th>\n",
       "      <th></th>\n",
       "    </tr>\n",
       "  </thead>\n",
       "  <tbody>\n",
       "    <tr>\n",
       "      <th>seg_00030f</th>\n",
       "      <td>0</td>\n",
       "    </tr>\n",
       "    <tr>\n",
       "      <th>seg_0012b5</th>\n",
       "      <td>0</td>\n",
       "    </tr>\n",
       "    <tr>\n",
       "      <th>seg_00184e</th>\n",
       "      <td>0</td>\n",
       "    </tr>\n",
       "    <tr>\n",
       "      <th>seg_003339</th>\n",
       "      <td>0</td>\n",
       "    </tr>\n",
       "    <tr>\n",
       "      <th>seg_0042cc</th>\n",
       "      <td>0</td>\n",
       "    </tr>\n",
       "  </tbody>\n",
       "</table>\n",
       "</div>"
      ],
      "text/plain": [
       "            time_to_failure\n",
       "seg_id                     \n",
       "seg_00030f                0\n",
       "seg_0012b5                0\n",
       "seg_00184e                0\n",
       "seg_003339                0\n",
       "seg_0042cc                0"
      ]
     },
     "execution_count": 504,
     "metadata": {},
     "output_type": "execute_result"
    }
   ],
   "source": [
    "submission = pd.read_csv(os.path.join(root,'sample_submission.csv'), index_col='seg_id')\n",
    "submission.head()"
   ]
  },
  {
   "cell_type": "code",
   "execution_count": 505,
   "metadata": {},
   "outputs": [
    {
     "name": "stderr",
     "output_type": "stream",
     "text": [
      "100%|██████████| 2624/2624 [01:19<00:00, 33.19it/s]\n"
     ]
    }
   ],
   "source": [
    "X_test = list()\n",
    "for seg_id in tqdm(submission.index):\n",
    "    seg = pd.read_csv(os.path.join(root,os.path.join('test',seg_id))+ '.csv')\n",
    "    X_test.append(getFeatures(seg,seg_id,getY=False))"
   ]
  },
  {
   "cell_type": "code",
   "execution_count": 506,
   "metadata": {},
   "outputs": [],
   "source": [
    "X_test = pd.concat(X_test).set_index(keys='segID',drop=True)"
   ]
  },
  {
   "cell_type": "code",
   "execution_count": 507,
   "metadata": {},
   "outputs": [
    {
     "name": "stdout",
     "output_type": "stream",
     "text": [
      "2624\n"
     ]
    },
    {
     "data": {
      "text/html": [
       "<div>\n",
       "<style scoped>\n",
       "    .dataframe tbody tr th:only-of-type {\n",
       "        vertical-align: middle;\n",
       "    }\n",
       "\n",
       "    .dataframe tbody tr th {\n",
       "        vertical-align: top;\n",
       "    }\n",
       "\n",
       "    .dataframe thead th {\n",
       "        text-align: right;\n",
       "    }\n",
       "</style>\n",
       "<table border=\"1\" class=\"dataframe\">\n",
       "  <thead>\n",
       "    <tr style=\"text-align: right;\">\n",
       "      <th></th>\n",
       "      <th>time_to_failure</th>\n",
       "    </tr>\n",
       "    <tr>\n",
       "      <th>seg_id</th>\n",
       "      <th></th>\n",
       "    </tr>\n",
       "  </thead>\n",
       "  <tbody>\n",
       "    <tr>\n",
       "      <th>seg_00030f</th>\n",
       "      <td>5.357236862182617</td>\n",
       "    </tr>\n",
       "    <tr>\n",
       "      <th>seg_0012b5</th>\n",
       "      <td>5.299247741699219</td>\n",
       "    </tr>\n",
       "    <tr>\n",
       "      <th>seg_00184e</th>\n",
       "      <td>5.923360347747803</td>\n",
       "    </tr>\n",
       "    <tr>\n",
       "      <th>seg_003339</th>\n",
       "      <td>9.428481101989746</td>\n",
       "    </tr>\n",
       "    <tr>\n",
       "      <th>seg_0042cc</th>\n",
       "      <td>6.824665069580078</td>\n",
       "    </tr>\n",
       "  </tbody>\n",
       "</table>\n",
       "</div>"
      ],
      "text/plain": [
       "              time_to_failure\n",
       "seg_id                       \n",
       "seg_00030f  5.357236862182617\n",
       "seg_0012b5  5.299247741699219\n",
       "seg_00184e  5.923360347747803\n",
       "seg_003339  9.428481101989746\n",
       "seg_0042cc  6.824665069580078"
      ]
     },
     "execution_count": 507,
     "metadata": {},
     "output_type": "execute_result"
    }
   ],
   "source": [
    "submission['time_to_failure'] = gs_XGB.predict(X_test)\n",
    "print(len(submission))\n",
    "submission.head()"
   ]
  },
  {
   "cell_type": "code",
   "execution_count": 508,
   "metadata": {},
   "outputs": [],
   "source": [
    "submission.to_csv(os.path.join(root,'{}_submission.csv'.format(version)))"
   ]
  },
  {
   "cell_type": "markdown",
   "metadata": {},
   "source": [
    "# END"
   ]
  }
 ],
 "metadata": {
  "kernelspec": {
   "display_name": "Python 3",
   "language": "python",
   "name": "python3"
  },
  "language_info": {
   "codemirror_mode": {
    "name": "ipython",
    "version": 3
   },
   "file_extension": ".py",
   "mimetype": "text/x-python",
   "name": "python",
   "nbconvert_exporter": "python",
   "pygments_lexer": "ipython3",
   "version": "3.7.0"
  }
 },
 "nbformat": 4,
 "nbformat_minor": 2
}
